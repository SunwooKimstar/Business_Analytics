{
 "cells": [
  {
   "cell_type": "markdown",
   "metadata": {},
   "source": [
    "## MDS(Multi Dimensional Scaling)\n",
    "- 객체들간의 거리를 바탕으로 유사성을 측정하여 다차원 공간에 표현하는 분석 방법입니다\n",
    "- 기존 데이터들간의 거리 정보를 최대한 보존하는 좌표계를 찾고자 합니다\n",
    "- MDS에서는 모든 점들간의 거리 정보의 중요도를 같게 다루기 때문에 고차원의 원 공간에서 가까운 거리를 가지는 점들간의 구조를 잘 보존하지 못한다는 한계점이 있습니다"
   ]
  },
  {
   "cell_type": "code",
   "execution_count": 1,
   "metadata": {},
   "outputs": [],
   "source": [
    "from numpy.linalg import eig\n",
    "from sklearn.manifold import TSNE\n",
    "from sklearn.datasets import load_digits\n",
    "from sklearn.preprocessing import StandardScaler\n",
    "import numpy as np \n",
    "import pandas as pd\n",
    "import seaborn as sns\n",
    "from IPython.display import Image"
   ]
  },
  {
   "cell_type": "markdown",
   "metadata": {},
   "source": [
    "<b>MDS 과정<b>\n",
    "\n",
    "1. 근접 거리 행렬 구축\n",
    "2. 개체 간의 거리 정보를 잘 보존하는 좌표계 추출\n",
    "3. 추출한 좌표계에 데이터를 mapping하고 분석"
   ]
  },
  {
   "cell_type": "markdown",
   "metadata": {},
   "source": [
    "### Vector X에 대한 MDS를 찾아보자"
   ]
  },
  {
   "cell_type": "code",
   "execution_count": 2,
   "metadata": {},
   "outputs": [
    {
     "data": {
      "text/plain": [
       "array([[ 1,  1],\n",
       "       [ 1, -1],\n",
       "       [-1,  1],\n",
       "       [-1, -1]])"
      ]
     },
     "execution_count": 2,
     "metadata": {},
     "output_type": "execute_result"
    }
   ],
   "source": [
    "data = np.array([[1,1],[1,-1],[-1,1],[-1,-1]])\n",
    "data"
   ]
  },
  {
   "cell_type": "markdown",
   "metadata": {},
   "source": [
    "1. Gram 매트릭스를 계산합니다"
   ]
  },
  {
   "cell_type": "markdown",
   "metadata": {},
   "source": [
    "![nn](./images/GRAM.png)"
   ]
  },
  {
   "cell_type": "markdown",
   "metadata": {},
   "source": [
    "-   해당 매트릭스의 제약조건은 다음과 같습니다"
   ]
  },
  {
   "cell_type": "markdown",
   "metadata": {},
   "source": [
    "![nn1](./images/GRAM_COND.png)"
   ]
  },
  {
   "cell_type": "code",
   "execution_count": 3,
   "metadata": {},
   "outputs": [
    {
     "name": "stdout",
     "output_type": "stream",
     "text": [
      "Gram 매트릭스:\n",
      " [[ 2  0  0 -2]\n",
      " [ 0  2 -2  0]\n",
      " [ 0 -2  2  0]\n",
      " [-2  0  0  2]]\n"
     ]
    }
   ],
   "source": [
    "mat = data.dot(data.T)\n",
    "print('Gram 매트릭스:\\n',mat)"
   ]
  },
  {
   "cell_type": "markdown",
   "metadata": {},
   "source": [
    "2. Gram 매트릭스의 eigen value값과 eigen vector를 계산합니다"
   ]
  },
  {
   "cell_type": "markdown",
   "metadata": {},
   "source": [
    "![nn](./images/EIGEN.png)"
   ]
  },
  {
   "cell_type": "code",
   "execution_count": 4,
   "metadata": {},
   "outputs": [],
   "source": [
    "eigen_val = eig(mat)[0]\n",
    "eigen_vec = eig(mat)[1]"
   ]
  },
  {
   "cell_type": "code",
   "execution_count": 5,
   "metadata": {},
   "outputs": [
    {
     "data": {
      "text/plain": [
       "(4,)"
      ]
     },
     "execution_count": 5,
     "metadata": {},
     "output_type": "execute_result"
    }
   ],
   "source": [
    "eigen_val.shape"
   ]
  },
  {
   "cell_type": "code",
   "execution_count": 6,
   "metadata": {},
   "outputs": [
    {
     "data": {
      "text/plain": [
       "(4, 4)"
      ]
     },
     "execution_count": 6,
     "metadata": {},
     "output_type": "execute_result"
    }
   ],
   "source": [
    "eigen_vec.shape"
   ]
  },
  {
   "cell_type": "code",
   "execution_count": 7,
   "metadata": {},
   "outputs": [
    {
     "name": "stdout",
     "output_type": "stream",
     "text": [
      " 4.0 에 대응되는 eigen vector : [ 0.70710678  0.          0.         -0.70710678]\n",
      " 4.440892098500626e-16 에 대응되는 eigen vector : [0.70710678 0.         0.         0.70710678]\n",
      " 4.0 에 대응되는 eigen vector : [ 0.         -0.70710678  0.70710678  0.        ]\n"
     ]
    }
   ],
   "source": [
    "# 각각의 eigen value값에 대응되는 eigen vector 찾기\n",
    "print(f' {eigen_val[0]} 에 대응되는 eigen vector :', eigen_vec[:,0])\n",
    "print(f' {eigen_val[1]} 에 대응되는 eigen vector :', eigen_vec[:,1])\n",
    "print(f' {eigen_val[2]} 에 대응되는 eigen vector :', eigen_vec[:,2])"
   ]
  },
  {
   "cell_type": "code",
   "execution_count": 8,
   "metadata": {},
   "outputs": [
    {
     "name": "stdout",
     "output_type": "stream",
     "text": [
      "\n",
      " MDS Axis : [ 0.70710678  0.          0.         -0.70710678] (최대 eigen value λ에 대응되는 eigen vector) = 4.0\n"
     ]
    }
   ],
   "source": [
    "print(f'\\n MDS Axis : {eigen_vec[:,0]} (최대 eigen value λ에 대응되는 eigen vector) = {eigen_val[0]}')"
   ]
  },
  {
   "cell_type": "code",
   "execution_count": 9,
   "metadata": {},
   "outputs": [
    {
     "data": {
      "text/plain": [
       "array([ 0.70710678,  0.        ,  0.        , -0.70710678])"
      ]
     },
     "execution_count": 9,
     "metadata": {},
     "output_type": "execute_result"
    }
   ],
   "source": [
    "mds_axis = eigen_vec[:,0]\n",
    "mds_axis"
   ]
  },
  {
   "cell_type": "markdown",
   "metadata": {},
   "source": [
    "3. X를 V1에 projection 시킨 결과는 다음과 같이 표현할 수 있습니다"
   ]
  },
  {
   "cell_type": "markdown",
   "metadata": {},
   "source": [
    "![nn](./images/PROJ_Y.png)"
   ]
  },
  {
   "cell_type": "code",
   "execution_count": 10,
   "metadata": {},
   "outputs": [
    {
     "name": "stdout",
     "output_type": "stream",
     "text": [
      "X 벡터를 R(3*1)에 해당되는 Y에 project 시켰을 때 (q=1) :\n",
      " [ 1.41421356  0.          0.         -1.41421356]\n"
     ]
    }
   ],
   "source": [
    "proj_XonMDS = np.linalg.norm(mds_axis.dot(data)/np.linalg.norm(mds_axis))*mds_axis/np.linalg.norm(mds_axis)\n",
    "print('X 벡터를 R(3*1)에 해당되는 Y에 project 시켰을 때 (q=1) :\\n',proj_XonMDS)"
   ]
  },
  {
   "cell_type": "code",
   "execution_count": null,
   "metadata": {},
   "outputs": [],
   "source": []
  }
 ],
 "metadata": {
  "kernelspec": {
   "display_name": "Python 3.6.9 64-bit",
   "language": "python",
   "name": "python3"
  },
  "language_info": {
   "codemirror_mode": {
    "name": "ipython",
    "version": 3
   },
   "file_extension": ".py",
   "mimetype": "text/x-python",
   "name": "python",
   "nbconvert_exporter": "python",
   "pygments_lexer": "ipython3",
   "version": "3.6.9"
  },
  "orig_nbformat": 4,
  "vscode": {
   "interpreter": {
    "hash": "31f2aee4e71d21fbe5cf8b01ff0e069b9275f58929596ceb00d14d90e3e16cd6"
   }
  }
 },
 "nbformat": 4,
 "nbformat_minor": 2
}
